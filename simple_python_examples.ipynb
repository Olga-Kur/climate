{
  "nbformat": 4,
  "nbformat_minor": 0,
  "metadata": {
    "colab": {
      "provenance": [],
      "authorship_tag": "ABX9TyOK8kY6jwwrTutaAMmlb0J6",
      "include_colab_link": true
    },
    "kernelspec": {
      "name": "python3",
      "display_name": "Python 3"
    },
    "language_info": {
      "name": "python"
    }
  },
  "cells": [
    {
      "cell_type": "markdown",
      "metadata": {
        "id": "view-in-github",
        "colab_type": "text"
      },
      "source": [
        "<a href=\"https://colab.research.google.com/github/PlaZMaD/climate/blob/main/simple_python_examples.ipynb\" target=\"_parent\"><img src=\"https://colab.research.google.com/assets/colab-badge.svg\" alt=\"Open In Colab\"/></a>"
      ]
    },
    {
      "cell_type": "markdown",
      "source": [
        "Let's begin\n"
      ],
      "metadata": {
        "id": "9oW0rk91G_e3"
      }
    },
    {
      "cell_type": "code",
      "execution_count": null,
      "metadata": {
        "id": "UB8Q2nFvGk6H"
      },
      "outputs": [],
      "source": [
        "print('Hi!')"
      ]
    },
    {
      "cell_type": "code",
      "source": [
        "a = 1.\n",
        "dsfds_123 = 0.66"
      ],
      "metadata": {
        "id": "JSAGZoVOHrzq"
      },
      "execution_count": null,
      "outputs": []
    },
    {
      "cell_type": "code",
      "source": [
        "print()"
      ],
      "metadata": {
        "id": "XY3zB1FCH54F"
      },
      "execution_count": null,
      "outputs": []
    },
    {
      "cell_type": "code",
      "source": [
        "b = 2.\n",
        "c = 3.\n",
        "print(c * b)\n",
        "print(c / b)\n",
        "print( 8 // 3)\n",
        "print(8 % 3)\n",
        "print(3**3)"
      ],
      "metadata": {
        "id": "z_-5iNzqImUG"
      },
      "execution_count": null,
      "outputs": []
    },
    {
      "cell_type": "code",
      "source": [
        "d = \"\"\" \"Hi there\" \"\"\"\n",
        "print(d)"
      ],
      "metadata": {
        "id": "k3SUINPhJMhL"
      },
      "execution_count": null,
      "outputs": []
    },
    {
      "cell_type": "code",
      "source": [
        "g ='CO2'\n",
        "f = f\"thi is {c}\"\n",
        "e = \"This id {c}\".format(c=\"FCH4\")\n",
        "print(f, e)"
      ],
      "metadata": {
        "id": "ErC4toDGJ7A8"
      },
      "execution_count": null,
      "outputs": []
    },
    {
      "cell_type": "code",
      "source": [
        "list_a = [5, 6, 7]\n",
        "list_a.append(1)\n",
        "list_a.append(2)\n",
        "print(list_a)\n",
        "print(list_a[-1])\n",
        "\n",
        "list_b = [print(k**2) for k in range(10)]\n",
        "print(list_b)"
      ],
      "metadata": {
        "id": "EMbFKCGZKvmk"
      },
      "execution_count": null,
      "outputs": []
    },
    {
      "cell_type": "code",
      "source": [
        "dict_a = {f\"{i}\": i**2 for i in range(5)}\n",
        "dict_a['1'] = 1\n",
        "dict_a['2'] = 2\n",
        "print(dict_a)"
      ],
      "metadata": {
        "id": "pom-n2TRMAR0"
      },
      "execution_count": null,
      "outputs": []
    },
    {
      "cell_type": "code",
      "source": [
        "a = 6\n",
        "if a > 3:\n",
        "  print(\"a >3\")\n",
        "else:\n",
        "  print(\"a<=3\")"
      ],
      "metadata": {
        "id": "OafaZhj5NExu"
      },
      "execution_count": null,
      "outputs": []
    },
    {
      "cell_type": "code",
      "source": [
        "for i in list_a:\n",
        "  print(i)\n",
        "  print(i**2)"
      ],
      "metadata": {
        "id": "haxUSNgENdCn"
      },
      "execution_count": null,
      "outputs": []
    },
    {
      "cell_type": "code",
      "source": [
        "def myFunc(x):\n",
        "  print(x**3)\n",
        "  return x**4\n",
        "\n",
        "l = myFunc(5)\n",
        "print(l)"
      ],
      "metadata": {
        "id": "o2sUlfbiNxYf"
      },
      "execution_count": null,
      "outputs": []
    },
    {
      "cell_type": "code",
      "source": [
        "list_c = [i for i in range(10)]\n",
        "print(list_c[:6:2])"
      ],
      "metadata": {
        "id": "flWXqcAJON9j"
      },
      "execution_count": null,
      "outputs": []
    },
    {
      "cell_type": "code",
      "source": [
        "import numpy as np"
      ],
      "metadata": {
        "id": "vQkCoqUKOrtL"
      },
      "execution_count": null,
      "outputs": []
    },
    {
      "cell_type": "code",
      "source": [
        "a = np.array([i for i in range(5)])\n",
        "b = np.array([5, 4, 3, 2, 1])\n",
        "\n",
        "print(a)\n",
        "# print(b)\n",
        "\n",
        "print(a * b)"
      ],
      "metadata": {
        "id": "yxtdv9wzO-n7"
      },
      "execution_count": null,
      "outputs": []
    },
    {
      "cell_type": "code",
      "source": [
        "%%time\n",
        "# ^-- this \"magic\" measures and prints cell computation time\n",
        "\n",
        "# Option I: pure python\n",
        "arr_1 = range(1000000)\n",
        "arr_2 = range(99,1000099)\n",
        "\n",
        "\n",
        "a_sum = []\n",
        "a_prod = []\n",
        "sqrt_a1 = []\n",
        "for i in range(len(arr_1)):\n",
        "    a_sum.append(arr_1[i]+arr_2[i])\n",
        "    a_prod.append(arr_1[i]*arr_2[i])\n",
        "    a_sum.append(arr_1[i]**0.5)\n",
        "\n",
        "arr_1_sum = sum(arr_1)\n"
      ],
      "metadata": {
        "id": "gGQoIIDhQXUW"
      },
      "execution_count": null,
      "outputs": []
    },
    {
      "cell_type": "code",
      "source": [
        "%%time\n",
        "\n",
        "# Option II: start from python, convert to numpy\n",
        "arr_1 = range(1000000)\n",
        "arr_2 = range(99,1000099)\n",
        "\n",
        "arr_1, arr_2 = np.array(arr_1) , np.array(arr_2)\n",
        "\n",
        "\n",
        "a_sum = arr_1 + arr_2\n",
        "a_prod = arr_1 * arr_2\n",
        "sqrt_a1 = arr_1 ** .5\n",
        "arr_1_sum = arr_1.sum()"
      ],
      "metadata": {
        "id": "35CFx7AoQXc5"
      },
      "execution_count": null,
      "outputs": []
    },
    {
      "cell_type": "code",
      "source": [
        "%%time\n",
        "\n",
        "# Option III: pure numpy\n",
        "arr_1 = np.arange(1000000)\n",
        "arr_2 = np.arange(99,1000099)\n",
        "\n",
        "a_sum = arr_1 + arr_2\n",
        "a_prod = arr_1 * arr_2\n",
        "sqrt_a1 = arr_1 ** .5\n",
        "arr_1_sum = arr_1.sum()\n"
      ],
      "metadata": {
        "id": "gatdA4AlQk-Y"
      },
      "execution_count": null,
      "outputs": []
    },
    {
      "cell_type": "code",
      "source": [
        "!wget https://raw.githubusercontent.com/HSE-LAMBDA/MLDM-2022/main/01-intro/tabular-playground-series-aug-2022.zip\n",
        "!unzip tabular-playground-series-aug-2022.zip -d data"
      ],
      "metadata": {
        "id": "XgE6ZgDJQX0C"
      },
      "execution_count": null,
      "outputs": []
    },
    {
      "cell_type": "code",
      "source": [
        "import pandas as pd"
      ],
      "metadata": {
        "id": "Kc1tM2t9RZKg"
      },
      "execution_count": null,
      "outputs": []
    },
    {
      "cell_type": "code",
      "source": [
        "!ls -la"
      ],
      "metadata": {
        "id": "B3zMh9pRSGNK"
      },
      "execution_count": null,
      "outputs": []
    },
    {
      "cell_type": "code",
      "source": [
        "data = pd.read_csv('data/train.csv', index_col='id')\n",
        "data.index += 1"
      ],
      "metadata": {
        "id": "QAYMsthQRjEY"
      },
      "execution_count": null,
      "outputs": []
    },
    {
      "cell_type": "code",
      "source": [
        "print(data.head())"
      ],
      "metadata": {
        "id": "a-HUqoYKR3Bt"
      },
      "execution_count": null,
      "outputs": []
    },
    {
      "cell_type": "code",
      "source": [],
      "metadata": {
        "id": "jHhmu770VzrM"
      },
      "execution_count": null,
      "outputs": []
    },
    {
      "cell_type": "code",
      "source": [
        "print(data.loc[1:5, ['product_code', 'failure']])\n",
        "print(data.query(\"2.1 * measurement_9 > measurement_10 and loading < 11\"))"
      ],
      "metadata": {
        "id": "0BVEMd9qTUYO"
      },
      "execution_count": null,
      "outputs": []
    },
    {
      "cell_type": "code",
      "source": [
        "print(data['loading'].median())"
      ],
      "metadata": {
        "id": "-Rp1fzTqVz5W"
      },
      "execution_count": null,
      "outputs": []
    },
    {
      "cell_type": "code",
      "source": [
        "print(data['loading'].isna().sum())\n",
        "print(np.nan_to_num(data['loading'].values).mean())"
      ],
      "metadata": {
        "id": "nVAgluYMWDj3"
      },
      "execution_count": null,
      "outputs": []
    },
    {
      "cell_type": "code",
      "source": [
        "!wget https://raw.githubusercontent.com/plazmad/Climate/main/train_example.xlsx"
      ],
      "metadata": {
        "id": "1L2fblcEWtkr"
      },
      "execution_count": null,
      "outputs": []
    },
    {
      "cell_type": "code",
      "source": [
        "climate_data = pd.read_excel(\"train_example.xlsx\", sheet_name=None)"
      ],
      "metadata": {
        "id": "qR3CadoPWx3B"
      },
      "execution_count": null,
      "outputs": []
    },
    {
      "cell_type": "code",
      "source": [
        "climate_data_new = pd.concat([item for _, item in climate_data.items()], ignore_index=True)"
      ],
      "metadata": {
        "id": "dWNjhOKpXKtb"
      },
      "execution_count": null,
      "outputs": []
    },
    {
      "cell_type": "code",
      "source": [
        "print(climate_data['TIMESTAMP_START'])\n",
        "\n",
        "# data['datetime'] = pd.to_datetime(data['myDateTime'], format='%d.%m.%Y %H:%M:%S')\n",
        "# data.index = pd.DatetimeIndex(data['datetime'])"
      ],
      "metadata": {
        "id": "bBXMVBTlYhEI"
      },
      "execution_count": null,
      "outputs": []
    },
    {
      "cell_type": "code",
      "source": [],
      "metadata": {
        "id": "L0r5pfnIbL2h"
      },
      "execution_count": null,
      "outputs": []
    },
    {
      "cell_type": "code",
      "source": [
        "tmp_data = climate_data.query(\"TIMESTAMP_START.dt.hour in [2, 3, 4, 5]\")"
      ],
      "metadata": {
        "id": "29emZxlXZbJ0"
      },
      "execution_count": null,
      "outputs": []
    },
    {
      "cell_type": "code",
      "source": [
        "print(tmp_data.head())"
      ],
      "metadata": {
        "id": "KsXOcbpFbW_m"
      },
      "execution_count": null,
      "outputs": []
    },
    {
      "cell_type": "code",
      "source": [
        "import matplotlib.pylab as plt\n",
        "import plotly.graph_objs as go"
      ],
      "metadata": {
        "id": "EtC1I_8zcNOm"
      },
      "execution_count": null,
      "outputs": []
    },
    {
      "cell_type": "code",
      "source": [
        "plt.hist(climate_data['CH4'], bins='auto', color='tab:olive', label=\"CH$_4$\", density=True, rwidth=.7)\n",
        "plt.hist(climate_data['CO2'], bins='auto', color='#2ca02c', label=\"CO2\", density=True)\n",
        "plt.title('CH$_4$')\n",
        "plt.ylabel('counts')\n",
        "plt.legend()\n",
        "plt.show()"
      ],
      "metadata": {
        "id": "MRwoQ9uFcnj8"
      },
      "execution_count": null,
      "outputs": []
    },
    {
      "cell_type": "code",
      "source": [
        "fig = go.Figure()\n",
        "fig.add_trace(go.Histogram(x=climate_data['CH4'], histnorm='probability', name=\"CH4\"))\n",
        "fig.add_trace(go.Histogram(x=climate_data['CO2'], histnorm='probability', name=r\"$\\text{CO}_2$\"))\n",
        "fig.update_layout( paper_bgcolor='rgba(0,0,0,0)', plot_bgcolor='rgba(0,0,0,0)')\n",
        "fig.show()\n"
      ],
      "metadata": {
        "id": "HHhSvhIpfHT-"
      },
      "execution_count": null,
      "outputs": []
    },
    {
      "cell_type": "code",
      "source": [
        "plot_data_m = climate_data.query('TIMESTAMP_START > \"01.01.2017 00:00:00\"')\n",
        "mList = [7, 8]\n",
        "mHours = [i for i in range(10, 18)]\n",
        "plot_data = plot_data_m.query('TIMESTAMP_START.dt.month in @mList and TIMESTAMP_START.dt.hour not in @mHours')\n",
        "plt.hist(plot_data['TA'], bins='auto', label=\"Night\", density=True, alpha=0.3)\n",
        "\n",
        "plot_data = plot_data_m.query('TIMESTAMP_START.dt.month in @mList and TIMESTAMP_START.dt.hour in @mHours')\n",
        "plt.hist(plot_data['TA'], bins='auto', label=\"Day\", density=True, alpha=0.3)\n",
        "\n",
        "plt.legend()\n",
        "plt.show()\n",
        "# np.linspace(0, 10, 40)"
      ],
      "metadata": {
        "id": "PCq1pqvsh9a0"
      },
      "execution_count": null,
      "outputs": []
    },
    {
      "cell_type": "code",
      "source": [
        "plot_data_m = climate_data.query('TIMESTAMP_START > \"01.01.2017 00:00:00\"')\n",
        "mList = [7,8]\n",
        "mHour = [i for i in range(10, 16)]\n",
        "\n",
        "fig = go.Figure()\n",
        "\n",
        "\n",
        "plot_data = plot_data_m.query('TIMESTAMP_START.dt.month in @mList and TIMESTAMP_START.dt.hour not in @mHour')\n",
        "fig.add_trace(go.Histogram(x=plot_data['TA'], histnorm='probability', name='NIGHT'))\n",
        "\n",
        "plot_data = plot_data_m.query('TIMESTAMP_START.dt.month in @mList and TIMESTAMP_START.dt.hour  in @mHour')\n",
        "fig.add_trace(go.Histogram(x=plot_data['TA'], histnorm='probability', name='DAY'))\n",
        "\n",
        "fig.update_layout(barmode=\"overlay\")\n",
        "fig.update_traces(opacity=0.7)\n",
        "\n",
        "\n",
        "fig.update_layout(title_text='Day and night Temp')\n",
        "fig.update_xaxes(title_text=\"Temperature\")\n",
        "fig.show()"
      ],
      "metadata": {
        "id": "ewa96G-akMMv"
      },
      "execution_count": null,
      "outputs": []
    },
    {
      "cell_type": "code",
      "source": [
        "def plot_nice_year_hist(df, to_plot, time_col):\n",
        "\n",
        "  plot_data = df[to_plot]\n",
        "  np_data = plot_data.to_numpy()\n",
        "  out_data = len(np_data)%48\n",
        "  np_data = np_data[:-out_data]\n",
        "  plt.figure(figsize=(36, 20))\n",
        "  plt.imshow(np_data.reshape(-1, 24*2).T)\n",
        "  plt.show()"
      ],
      "metadata": {
        "id": "Kmbg4UrekUaS"
      },
      "execution_count": null,
      "outputs": []
    },
    {
      "cell_type": "code",
      "source": [
        "plot_nice_year_hist (climate_data.query(\"TIMESTAMP_START.dt.year>=2017\"), 'TA', 'TIMESTAMP_START')"
      ],
      "metadata": {
        "id": "RhnVYd4ZlVfg"
      },
      "execution_count": null,
      "outputs": []
    },
    {
      "cell_type": "code",
      "source": [
        "plot_nice_year_hist (climate_data.query(\"TIMESTAMP_START.dt.year>=2017\"), 'FCH4', 'TIMESTAMP_START')"
      ],
      "metadata": {
        "id": "S-r5drNmmaEG"
      },
      "execution_count": null,
      "outputs": []
    },
    {
      "cell_type": "code",
      "source": [
        "def plot_nice_year_hist_plotly(df, to_plot, time_col):\n",
        "    plot_data = df[to_plot]\n",
        "\n",
        "    fig = go.Figure()\n",
        "    fig.add_trace(go.Heatmap(x=df[time_col].dt.date, y=df[time_col].dt.hour, z=df[to_plot]))\n",
        "    fig.show()\n"
      ],
      "metadata": {
        "id": "kafmVyHSm-wo"
      },
      "execution_count": null,
      "outputs": []
    },
    {
      "cell_type": "code",
      "source": [
        "plot_nice_year_hist_plotly (climate_data.query(\"TIMESTAMP_START.dt.year>=2017\"), 'FCH4', 'TIMESTAMP_START')"
      ],
      "metadata": {
        "id": "_FImMayynGjd"
      },
      "execution_count": null,
      "outputs": []
    },
    {
      "cell_type": "code",
      "source": [
        "plot_nice_year_hist_plotly (climate_data.query(\"TIMESTAMP_START >= '01.01.2017 00:00:00'\"), 'NETRAD', 'TIMESTAMP_START')"
      ],
      "metadata": {
        "id": "hlj0Qr52odKe"
      },
      "execution_count": null,
      "outputs": []
    }
  ]
}